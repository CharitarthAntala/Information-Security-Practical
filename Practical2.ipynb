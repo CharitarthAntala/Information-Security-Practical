{
  "nbformat": 4,
  "nbformat_minor": 0,
  "metadata": {
    "colab": {
      "name": "Practical2.ipynb",
      "provenance": [],
      "authorship_tag": "ABX9TyOKRkQZpO311d4/7ToUUE36",
      "include_colab_link": true
    },
    "kernelspec": {
      "name": "python3",
      "display_name": "Python 3"
    },
    "language_info": {
      "name": "python"
    }
  },
  "cells": [
    {
      "cell_type": "markdown",
      "metadata": {
        "id": "view-in-github",
        "colab_type": "text"
      },
      "source": [
        "<a href=\"https://colab.research.google.com/github/CharitarthAntala/Information-Security-Practical/blob/main/Practical2.ipynb\" target=\"_parent\"><img src=\"https://colab.research.google.com/assets/colab-badge.svg\" alt=\"Open In Colab\"/></a>"
      ]
    },
    {
      "cell_type": "code",
      "metadata": {
        "colab": {
          "base_uri": "https://localhost:8080/"
        },
        "id": "H2ndS5ZLar0Y",
        "outputId": "474f5737-a135-4e28-ebfb-2178b74ee1ca"
      },
      "source": [
        "keys={\n",
        "   'a': 'm','b': 'n','c': 'b','d': 'v','e': 'c','f': 'x','g': 'z','h': 'a','i': 's','j': 'd','k': 'f','l': 'g','m': 'h','n': 'j',\n",
        "   'o': 'k','p': 'l','q': 'p','r': 'o','s': 'i','t': 'u','u': 'y','v': 't','w': 'r','x': 'e','y': 'w','z': 'q',' ': ' ',\n",
        "    }\n",
        "\n",
        "reverse_keys={}\n",
        "\n",
        "for key,value in keys.items():\n",
        "    reverse_keys[value]=key\n",
        "\n",
        "def encrypt(plaintext):\n",
        "    encryptmsg = ''\n",
        "    text=str(plaintext)\n",
        "    encrypting=[]\n",
        "    for l in text:\n",
        "        encrypting.append(keys.get(l,l))\n",
        "    return encryptmsg.join(encrypting)\n",
        "\n",
        "def decipher(ciphertext):\n",
        "    decryptedmsg = ''\n",
        "    text=str(ciphertext)\n",
        "    decrypted=[]\n",
        "    for l in text:\n",
        "        decrypted.append(reverse_keys.get(l,l))\n",
        "    return decryptedmsg.join(decrypted)\n",
        "\n",
        "msg=input(\"Enter the Message: \")\n",
        "ciphertext = encrypt(msg)\n",
        "print(\"This is Cipher Text: \" + encrypt(msg))\n",
        "print(\"This is Plain Text: \" + decipher(ciphertext))"
      ],
      "execution_count": 2,
      "outputs": [
        {
          "output_type": "stream",
          "text": [
            "Enter the Message: abc\n",
            "This is Cipher Text: mnb\n",
            "This is Plain Text: abc\n"
          ],
          "name": "stdout"
        }
      ]
    }
  ]
}