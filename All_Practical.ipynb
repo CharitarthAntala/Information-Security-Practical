{
  "nbformat": 4,
  "nbformat_minor": 0,
  "metadata": {
    "colab": {
      "name": "All_Practical.ipynb",
      "provenance": [],
      "authorship_tag": "ABX9TyMC1hd6DXjUHKfUgllDVFHt",
      "include_colab_link": true
    },
    "kernelspec": {
      "name": "python3",
      "display_name": "Python 3"
    },
    "language_info": {
      "name": "python"
    }
  },
  "cells": [
    {
      "cell_type": "markdown",
      "metadata": {
        "id": "view-in-github",
        "colab_type": "text"
      },
      "source": [
        "<a href=\"https://colab.research.google.com/github/CharitarthAntala/Information-Security-Practical/blob/main/All_Practical.ipynb\" target=\"_parent\"><img src=\"https://colab.research.google.com/assets/colab-badge.svg\" alt=\"Open In Colab\"/></a>"
      ]
    },
    {
      "cell_type": "markdown",
      "metadata": {
        "id": "xBJRwmF1XXPV"
      },
      "source": [
        "# **Practical 1**"
      ]
    },
    {
      "cell_type": "code",
      "metadata": {
        "colab": {
          "base_uri": "https://localhost:8080/"
        },
        "id": "2ttD9pLLK446",
        "outputId": "1b9fc0f7-fa36-4595-c458-be35b7f74561"
      },
      "source": [
        "def encryption(msg, key):  \n",
        "    cypher = \"\"  \n",
        "  \n",
        "  \n",
        "# plain text full recieve   \n",
        "    for i in range(len(msg)):  \n",
        "        char = msg[i]  \n",
        "      \n",
        "        #encryption for uppercase\n",
        "        if (char.isupper()):  \n",
        "            cypher += chr((ord(char) + key - 65) % 26 + 65)  \n",
        "        # encyption for lowercase  \n",
        "        else:  \n",
        "            cypher += chr((ord(char) + key - 97) % 26 + 97)  \n",
        "    return cypher  \n",
        "\n",
        "def decryption(cyphe, key):  \n",
        "    decypher = \"\"  \n",
        "  \n",
        "  \n",
        "# plain text full recieve   \n",
        "    for i in range(len(cyphe)):  \n",
        "        char = cyphe[i]  \n",
        "      \n",
        "        #encryption for uppercase\n",
        "        if (char.isupper()):  \n",
        "            decypher += chr((ord(char) - key - 65) % 26 + 65)  \n",
        "        # encyption for lowercase  \n",
        "        else:  \n",
        "            decypher += chr((ord(char) - key - 97) % 26 + 97)  \n",
        "    return decypher\n",
        "\n",
        "# check the above function  \n",
        "msg = input(\"Enter Plain Text : \")  \n",
        "key = int(input(\"Enter Key : \"))\n",
        "  \n",
        "print(\"Plain text : \" + msg)  \n",
        "print(\"Key for shift : \" + str(key))  \n",
        "print(\"Cipher text: \" + encryption(msg, key))\n",
        "cyphe = encryption(msg, key)\n",
        "print(\"DeCipher text: \" + decryption(cyphe, key))"
      ],
      "execution_count": 2,
      "outputs": [
        {
          "output_type": "stream",
          "text": [
            "Enter Plain Text : abc\n",
            "Enter Key : 3\n",
            "Plain text : abc\n",
            "Key for shift : 3\n",
            "Cipher text: def\n",
            "DeCipher text: abc\n"
          ],
          "name": "stdout"
        }
      ]
    },
    {
      "cell_type": "code",
      "metadata": {
        "colab": {
          "base_uri": "https://localhost:8080/"
        },
        "id": "K_bejI76ZOBX",
        "outputId": "feec8905-00f1-47f8-ca2d-b35b978e51b7"
      },
      "source": [
        "def encryption(plain, key):\n",
        " \n",
        "  cipher = ''\n",
        "  for char in plain:\n",
        "    if char == ' ':\n",
        "      cipher = cipher + char\n",
        "    elif  char.isupper():\n",
        "      cipher = cipher + chr((ord(char) + key - 65) % 26 + 65)\n",
        "    else:\n",
        "      cipher = cipher + chr((ord(char) + key - 97) % 26 + 97)\n",
        "  \n",
        "  return cipher\n",
        "\n",
        "def decryption(cipher, key):\n",
        " \n",
        "  plain = ''\n",
        "  for i in cipher:\n",
        "    if i == ' ':\n",
        "      plain = plain + i\n",
        "    elif  i.isupper():\n",
        "      plain = plain + chr((ord(i) + key + 65) % 26 + 65)\n",
        "    else:\n",
        "      plain = plain + chr((ord(i) + key + 97) % 26 + 97)\n",
        "  \n",
        "  return cipher\n",
        "\n",
        "text = input(\"enter string: \")\n",
        "key = int(input(\"enter key number: \"))\n",
        "print(\"original string: \", text)\n",
        "print(\"after encryption: \", encryption(text, key))\n",
        "print(\"after decryption: \", decryption(text, key))"
      ],
      "execution_count": 3,
      "outputs": [
        {
          "output_type": "stream",
          "text": [
            "enter string: abc\n",
            "enter key number: 3\n",
            "original string:  abc\n",
            "after encryption:  def\n",
            "after decryption:  abc\n"
          ],
          "name": "stdout"
        }
      ]
    },
    {
      "cell_type": "markdown",
      "metadata": {
        "id": "Jqb-fSsFXjZ5"
      },
      "source": [
        "# **Practical 2**"
      ]
    },
    {
      "cell_type": "code",
      "metadata": {
        "colab": {
          "base_uri": "https://localhost:8080/"
        },
        "id": "ESWsCOsuPZTT",
        "outputId": "1d6ee044-ecae-4768-bd11-9280b8771cce"
      },
      "source": [
        "keys={\n",
        "   'a': 'm','b': 'n','c': 'b','d': 'v','e': 'c','f': 'x','g': 'z','h': 'a','i': 's','j': 'd','k': 'f','l': 'g','m': 'h','n': 'j',\n",
        "   'o': 'k','p': 'l','q': 'p','r': 'o','s': 'i','t': 'u','u': 'y','v': 't','w': 'r','x': 'e','y': 'w','z': 'q',' ': ' ',\n",
        "    }\n",
        "\n",
        "reverse_keys={}\n",
        "\n",
        "for key,value in keys.items():\n",
        "    reverse_keys[value]=key\n",
        "\n",
        "def encrypt(text):\n",
        "    encryptmsg = ''\n",
        "    text=str(text)\n",
        "    encrypting=[]\n",
        "    for l in text:\n",
        "        encrypting.append(keys.get(l,l))\n",
        "    return encryptmsg.join(encrypting)\n",
        "\n",
        "def decipher(text):\n",
        "    decryptedmsg = ''\n",
        "    text=str(text)\n",
        "    decrypted=[]\n",
        "    for l in text:\n",
        "        decrypted.append(reverse_keys.get(l,l))\n",
        "    return decryptedmsg.join(decrypted)\n",
        "\n",
        "text=input(\"Enter the Message: \")\n",
        "ciphertext = encrypt(text)\n",
        "print(\"This is Cipher Text: \" + encrypt(text))\n",
        "print(\"This is Plain Text: \" + decipher(ciphertext))"
      ],
      "execution_count": 6,
      "outputs": [
        {
          "output_type": "stream",
          "text": [
            "Enter the Message: abc\n",
            "This is Cipher Text: mnb\n",
            "This is Plain Text: abc\n"
          ],
          "name": "stdout"
        }
      ]
    }
  ]
}