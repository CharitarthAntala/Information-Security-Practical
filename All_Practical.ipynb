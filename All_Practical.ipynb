{
  "nbformat": 4,
  "nbformat_minor": 0,
  "metadata": {
    "colab": {
      "name": "All_Practical.ipynb",
      "provenance": [],
      "collapsed_sections": [
        "xBJRwmF1XXPV",
        "Jqb-fSsFXjZ5",
        "IYdrhuuNbMFU"
      ],
      "authorship_tag": "ABX9TyPojuFkhClt1W7+ERUcoKdN",
      "include_colab_link": true
    },
    "kernelspec": {
      "name": "python3",
      "display_name": "Python 3"
    },
    "language_info": {
      "name": "python"
    }
  },
  "cells": [
    {
      "cell_type": "markdown",
      "metadata": {
        "id": "view-in-github",
        "colab_type": "text"
      },
      "source": [
        "<a href=\"https://colab.research.google.com/github/CharitarthAntala/Information-Security-Practical/blob/main/All_Practical.ipynb\" target=\"_parent\"><img src=\"https://colab.research.google.com/assets/colab-badge.svg\" alt=\"Open In Colab\"/></a>"
      ]
    },
    {
      "cell_type": "markdown",
      "metadata": {
        "id": "xBJRwmF1XXPV"
      },
      "source": [
        "# **Practical 1**"
      ]
    },
    {
      "cell_type": "code",
      "metadata": {
        "colab": {
          "base_uri": "https://localhost:8080/"
        },
        "id": "2ttD9pLLK446",
        "outputId": "44650ec9-cd26-486f-df9f-3aac487b6559"
      },
      "source": [
        "def encryption(msg, key):  \n",
        "    cypher = \"\"  \n",
        "  \n",
        "  \n",
        "# plain text full recieve   \n",
        "    for i in range(len(msg)):  \n",
        "        char = msg[i]  \n",
        "      \n",
        "        #encryption for uppercase\n",
        "        if (char.isupper()):  \n",
        "            cypher += chr((ord(char) + key - 65) % 26 + 65)  \n",
        "        # encyption for lowercase  \n",
        "        else:  \n",
        "            cypher += chr((ord(char) + key - 97) % 26 + 97)  \n",
        "    return cypher  \n",
        "\n",
        "def decryption(cyphe, key):  \n",
        "    decypher = \"\"  \n",
        "  \n",
        "  \n",
        "# plain text full recieve   \n",
        "    for i in range(len(cyphe)):  \n",
        "        char = cyphe[i]  \n",
        "      \n",
        "        #encryption for uppercase\n",
        "        if (char.isupper()):  \n",
        "            decypher += chr((ord(char) - key - 65) % 26 + 65)  \n",
        "        # encyption for lowercase  \n",
        "        else:  \n",
        "            decypher += chr((ord(char) - key - 97) % 26 + 97)  \n",
        "    return decypher\n",
        "\n",
        "# check the above function  \n",
        "msg = input(\"Enter Plain Text : \")  \n",
        "key = int(input(\"Enter Key : \"))\n",
        "  \n",
        "print(\"Plain text : \" + msg)  \n",
        "print(\"Key for shift : \" + str(key))  \n",
        "print(\"Cipher text: \" + encryption(msg, key))\n",
        "cyphe = encryption(msg, key)\n",
        "print(\"DeCipher text: \" + decryption(cyphe, key))"
      ],
      "execution_count": null,
      "outputs": [
        {
          "output_type": "stream",
          "text": [
            "Enter Plain Text : hello\n",
            "Enter Key : -1\n",
            "Plain text : hello\n",
            "Key for shift : -1\n",
            "Cipher text: gdkkn\n",
            "DeCipher text: hello\n"
          ],
          "name": "stdout"
        }
      ]
    },
    {
      "cell_type": "code",
      "metadata": {
        "colab": {
          "base_uri": "https://localhost:8080/"
        },
        "id": "K_bejI76ZOBX",
        "outputId": "feec8905-00f1-47f8-ca2d-b35b978e51b7"
      },
      "source": [
        "def encryption(plain, key):\n",
        " \n",
        "  cipher = ''\n",
        "  for char in plain:\n",
        "    if char == ' ':\n",
        "      cipher = cipher + char\n",
        "    elif  char.isupper():\n",
        "      cipher = cipher + chr((ord(char) + key - 65) % 26 + 65)\n",
        "    else:\n",
        "      cipher = cipher + chr((ord(char) + key - 97) % 26 + 97)\n",
        "  \n",
        "  return cipher\n",
        "\n",
        "def decryption(cipher, key):\n",
        " \n",
        "  plain = ''\n",
        "  for i in cipher:\n",
        "    if i == ' ':\n",
        "      plain = plain + i\n",
        "    elif  i.isupper():\n",
        "      plain = plain + chr((ord(i) + key + 65) % 26 + 65)\n",
        "    else:\n",
        "      plain = plain + chr((ord(i) + key + 97) % 26 + 97)\n",
        "  \n",
        "  return cipher\n",
        "\n",
        "text = input(\"enter string: \")\n",
        "key = int(input(\"enter key number: \"))\n",
        "print(\"original string: \", text)\n",
        "print(\"after encryption: \", encryption(text, key))\n",
        "print(\"after decryption: \", decryption(text, key))"
      ],
      "execution_count": null,
      "outputs": [
        {
          "output_type": "stream",
          "text": [
            "enter string: abc\n",
            "enter key number: 3\n",
            "original string:  abc\n",
            "after encryption:  def\n",
            "after decryption:  abc\n"
          ],
          "name": "stdout"
        }
      ]
    },
    {
      "cell_type": "markdown",
      "metadata": {
        "id": "Jqb-fSsFXjZ5"
      },
      "source": [
        "# **Practical 2**"
      ]
    },
    {
      "cell_type": "code",
      "metadata": {
        "colab": {
          "base_uri": "https://localhost:8080/"
        },
        "id": "ESWsCOsuPZTT",
        "outputId": "1d6ee044-ecae-4768-bd11-9280b8771cce"
      },
      "source": [
        "keys={\n",
        "   'a': 'm','b': 'n','c': 'b','d': 'v','e': 'c','f': 'x','g': 'z','h': 'a','i': 's','j': 'd','k': 'f','l': 'g','m': 'h','n': 'j',\n",
        "   'o': 'k','p': 'l','q': 'p','r': 'o','s': 'i','t': 'u','u': 'y','v': 't','w': 'r','x': 'e','y': 'w','z': 'q',' ': ' ',\n",
        "    }\n",
        "\n",
        "reverse_keys={}\n",
        "\n",
        "for key,value in keys.items():\n",
        "    reverse_keys[value]=key\n",
        "\n",
        "def encrypt(text):\n",
        "    encryptmsg = ''\n",
        "    text=str(text)\n",
        "    encrypting=[]\n",
        "    for l in text:\n",
        "        encrypting.append(keys.get(l,l))\n",
        "    return encryptmsg.join(encrypting)\n",
        "\n",
        "def decipher(text):\n",
        "    decryptedmsg = ''\n",
        "    text=str(text)\n",
        "    decrypted=[]\n",
        "    for l in text:\n",
        "        decrypted.append(reverse_keys.get(l,l))\n",
        "    return decryptedmsg.join(decrypted)\n",
        "\n",
        "msg=input(\"Enter the Message: \")\n",
        "ciphertext = encrypt(msg)\n",
        "print(\"This is Cipher Text: \" + encrypt(msg))\n",
        "print(\"This is Plain Text: \" + decipher(ciphertext))"
      ],
      "execution_count": null,
      "outputs": [
        {
          "output_type": "stream",
          "text": [
            "Enter the Message: abc\n",
            "This is Cipher Text: mnb\n",
            "This is Plain Text: abc\n"
          ],
          "name": "stdout"
        }
      ]
    },
    {
      "cell_type": "markdown",
      "metadata": {
        "id": "IYdrhuuNbMFU"
      },
      "source": [
        "# **Practical 3**"
      ]
    },
    {
      "cell_type": "code",
      "metadata": {
        "id": "cUTx5K8BbSh1"
      },
      "source": [
        "#CONTACT FOR ANY QUESTIONS\n",
        "#CODERATRI-ATRISAXENA2@GMAIL.COM\n",
        "\n",
        "key=input(\"Enter key\")\n",
        "key=key.replace(\" \", \"\")\n",
        "key=key.upper()\n",
        "def matrix(x,y,initial):\n",
        "    return [[initial for i in range(x)] for j in range(y)]\n",
        "    \n",
        "result=list()\n",
        "for c in key: #storing key\n",
        "    if c not in result:\n",
        "        if c=='J':\n",
        "            result.append('I')\n",
        "        else:\n",
        "            result.append(c)\n",
        "flag=0\n",
        "for i in range(65,91): #storing other character\n",
        "    if chr(i) not in result:\n",
        "        if i==73 and chr(74) not in result:\n",
        "            result.append(\"I\")\n",
        "            flag=1\n",
        "        elif flag==0 and i==73 or i==74:\n",
        "            pass    \n",
        "        else:\n",
        "            result.append(chr(i))\n",
        "k=0\n",
        "my_matrix=matrix(5,5,0) #initialize matrix\n",
        "for i in range(0,5): #making matrix\n",
        "    for j in range(0,5):\n",
        "        my_matrix[i][j]=result[k]\n",
        "        k+=1\n",
        "\n",
        "def locindex(c): #get location of each character\n",
        "    loc=list()\n",
        "    if c=='J':\n",
        "        c='I'\n",
        "    for i ,j in enumerate(my_matrix):\n",
        "        for k,l in enumerate(j):\n",
        "            if c==l:\n",
        "                loc.append(i)\n",
        "                loc.append(k)\n",
        "                return loc\n",
        "            \n",
        "def encrypt():  #Encryption\n",
        "    msg=str(input(\"ENTER MSG:\"))\n",
        "    msg=msg.upper()\n",
        "    msg=msg.replace(\" \", \"\")             \n",
        "    i=0\n",
        "    for s in range(0,len(msg)+1,2):\n",
        "        if s<len(msg)-1:\n",
        "            if msg[s]==msg[s+1]:\n",
        "                msg=msg[:s+1]+'X'+msg[s+1:]\n",
        "    if len(msg)%2!=0:\n",
        "        msg=msg[:]+'X'\n",
        "    print(\"CIPHER TEXT:\",end=' ')\n",
        "    while i<len(msg):\n",
        "        loc=list()\n",
        "        loc=locindex(msg[i])\n",
        "        loc1=list()\n",
        "        loc1=locindex(msg[i+1])\n",
        "        if loc[1]==loc1[1]:\n",
        "            print(\"{}{}\".format(my_matrix[(loc[0]+1)%5][loc[1]],my_matrix[(loc1[0]+1)%5][loc1[1]]),end=' ')\n",
        "        elif loc[0]==loc1[0]:\n",
        "            print(\"{}{}\".format(my_matrix[loc[0]][(loc[1]+1)%5],my_matrix[loc1[0]][(loc1[1]+1)%5]),end=' ')  \n",
        "        else:\n",
        "            print(\"{}{}\".format(my_matrix[loc[0]][loc1[1]],my_matrix[loc1[0]][loc[1]]),end=' ')    \n",
        "        i=i+2        \n",
        "                 \n",
        "def decrypt():  #decryption\n",
        "    msg=str(input(\"ENTER CIPHER TEXT:\"))\n",
        "    msg=msg.upper()\n",
        "    msg=msg.replace(\" \", \"\")\n",
        "    print(\"PLAIN TEXT:\",end=' ')\n",
        "    i=0\n",
        "    while i<len(msg):\n",
        "        loc=list()\n",
        "        loc=locindex(msg[i])\n",
        "        loc1=list()\n",
        "        loc1=locindex(msg[i+1])\n",
        "        if loc[1]==loc1[1]:\n",
        "            print(\"{}{}\".format(my_matrix[(loc[0]-1)%5][loc[1]],my_matrix[(loc1[0]-1)%5][loc1[1]]),end=' ')\n",
        "        elif loc[0]==loc1[0]:\n",
        "            print(\"{}{}\".format(my_matrix[loc[0]][(loc[1]-1)%5],my_matrix[loc1[0]][(loc1[1]-1)%5]),end=' ')  \n",
        "        else:\n",
        "            print(\"{}{}\".format(my_matrix[loc[0]][loc1[1]],my_matrix[loc1[0]][loc[1]]),end=' ')    \n",
        "        i=i+2        \n",
        "\n",
        "while(1):\n",
        "    choice=int(input(\"\\n 1.Encryption \\n 2.Decryption: \\n 3.EXIT\"))\n",
        "    if choice==1:\n",
        "        encrypt()\n",
        "    elif choice==2:\n",
        "        decrypt()\n",
        "    else:\n",
        "        print(\"Choose correct choice\")"
      ],
      "execution_count": null,
      "outputs": []
    }
  ]
}