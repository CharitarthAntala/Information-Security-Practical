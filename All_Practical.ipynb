{
  "nbformat": 4,
  "nbformat_minor": 0,
  "metadata": {
    "colab": {
      "name": "All_Practical.ipynb",
      "provenance": [],
      "collapsed_sections": [
        "xBJRwmF1XXPV",
        "Jqb-fSsFXjZ5",
        "IYdrhuuNbMFU",
        "mInj5jh6SASe"
      ],
      "authorship_tag": "ABX9TyOWsIulPNx2YvSynDyfEFu2",
      "include_colab_link": true
    },
    "kernelspec": {
      "name": "python3",
      "display_name": "Python 3"
    },
    "language_info": {
      "name": "python"
    }
  },
  "cells": [
    {
      "cell_type": "markdown",
      "metadata": {
        "id": "view-in-github",
        "colab_type": "text"
      },
      "source": [
        "<a href=\"https://colab.research.google.com/github/CharitarthAntala/Information-Security-Practical/blob/main/All_Practical.ipynb\" target=\"_parent\"><img src=\"https://colab.research.google.com/assets/colab-badge.svg\" alt=\"Open In Colab\"/></a>"
      ]
    },
    {
      "cell_type": "markdown",
      "metadata": {
        "id": "xBJRwmF1XXPV"
      },
      "source": [
        "# **Practical 1 - Ceaser Cipher**"
      ]
    },
    {
      "cell_type": "code",
      "metadata": {
        "colab": {
          "base_uri": "https://localhost:8080/"
        },
        "id": "2ttD9pLLK446",
        "outputId": "44650ec9-cd26-486f-df9f-3aac487b6559"
      },
      "source": [
        "def encryption(msg, key):  \n",
        "    cypher = \"\"  \n",
        "  \n",
        "  \n",
        "# plain text full recieve   \n",
        "    for i in range(len(msg)):  \n",
        "        char = msg[i]  \n",
        "      \n",
        "        #encryption for uppercase\n",
        "        if (char.isupper()):  \n",
        "            cypher += chr((ord(char) + key - 65) % 26 + 65)  \n",
        "        # encyption for lowercase  \n",
        "        else:  \n",
        "            cypher += chr((ord(char) + key - 97) % 26 + 97)  \n",
        "    return cypher  \n",
        "\n",
        "def decryption(cyphe, key):  \n",
        "    decypher = \"\"  \n",
        "  \n",
        "  \n",
        "# plain text full recieve   \n",
        "    for i in range(len(cyphe)):  \n",
        "        char = cyphe[i]  \n",
        "      \n",
        "        #encryption for uppercase\n",
        "        if (char.isupper()):  \n",
        "            decypher += chr((ord(char) - key - 65) % 26 + 65)  \n",
        "        # encyption for lowercase  \n",
        "        else:  \n",
        "            decypher += chr((ord(char) - key - 97) % 26 + 97)  \n",
        "    return decypher\n",
        "\n",
        "# check the above function  \n",
        "msg = input(\"Enter Plain Text : \")  \n",
        "key = int(input(\"Enter Key : \"))\n",
        "  \n",
        "print(\"Plain text : \" + msg)  \n",
        "print(\"Key for shift : \" + str(key))  \n",
        "print(\"Cipher text: \" + encryption(msg, key))\n",
        "cyphe = encryption(msg, key)\n",
        "print(\"DeCipher text: \" + decryption(cyphe, key))"
      ],
      "execution_count": null,
      "outputs": [
        {
          "output_type": "stream",
          "text": [
            "Enter Plain Text : hello\n",
            "Enter Key : -1\n",
            "Plain text : hello\n",
            "Key for shift : -1\n",
            "Cipher text: gdkkn\n",
            "DeCipher text: hello\n"
          ],
          "name": "stdout"
        }
      ]
    },
    {
      "cell_type": "code",
      "metadata": {
        "colab": {
          "base_uri": "https://localhost:8080/"
        },
        "id": "K_bejI76ZOBX",
        "outputId": "feec8905-00f1-47f8-ca2d-b35b978e51b7"
      },
      "source": [
        "def encryption(plain, key):\n",
        " \n",
        "  cipher = ''\n",
        "  for char in plain:\n",
        "    if char == ' ':\n",
        "      cipher = cipher + char\n",
        "    elif  char.isupper():\n",
        "      cipher = cipher + chr((ord(char) + key - 65) % 26 + 65)\n",
        "    else:\n",
        "      cipher = cipher + chr((ord(char) + key - 97) % 26 + 97)\n",
        "  \n",
        "  return cipher\n",
        "\n",
        "def decryption(cipher, key):\n",
        " \n",
        "  plain = ''\n",
        "  for i in cipher:\n",
        "    if i == ' ':\n",
        "      plain = plain + i\n",
        "    elif  i.isupper():\n",
        "      plain = plain + chr((ord(i) + key + 65) % 26 + 65)\n",
        "    else:\n",
        "      plain = plain + chr((ord(i) + key + 97) % 26 + 97)\n",
        "  \n",
        "  return cipher\n",
        "\n",
        "text = input(\"enter string: \")\n",
        "key = int(input(\"enter key number: \"))\n",
        "print(\"original string: \", text)\n",
        "print(\"after encryption: \", encryption(text, key))\n",
        "print(\"after decryption: \", decryption(text, key))"
      ],
      "execution_count": null,
      "outputs": [
        {
          "output_type": "stream",
          "text": [
            "enter string: abc\n",
            "enter key number: 3\n",
            "original string:  abc\n",
            "after encryption:  def\n",
            "after decryption:  abc\n"
          ],
          "name": "stdout"
        }
      ]
    },
    {
      "cell_type": "markdown",
      "metadata": {
        "id": "Jqb-fSsFXjZ5"
      },
      "source": [
        "# **Practical 2 - Monoalphabetic Cipher**"
      ]
    },
    {
      "cell_type": "code",
      "metadata": {
        "colab": {
          "base_uri": "https://localhost:8080/"
        },
        "id": "ESWsCOsuPZTT",
        "outputId": "1d6ee044-ecae-4768-bd11-9280b8771cce"
      },
      "source": [
        "keys={\n",
        "   'a': 'm','b': 'n','c': 'b','d': 'v','e': 'c','f': 'x','g': 'z','h': 'a','i': 's','j': 'd','k': 'f','l': 'g','m': 'h','n': 'j',\n",
        "   'o': 'k','p': 'l','q': 'p','r': 'o','s': 'i','t': 'u','u': 'y','v': 't','w': 'r','x': 'e','y': 'w','z': 'q',' ': ' ',\n",
        "    }\n",
        "\n",
        "reverse_keys={}\n",
        "\n",
        "for key,value in keys.items():\n",
        "    reverse_keys[value]=key\n",
        "\n",
        "def encrypt(text):\n",
        "    encryptmsg = ''\n",
        "    text=str(text)\n",
        "    encrypting=[]\n",
        "    for l in text:\n",
        "        encrypting.append(keys.get(l,l))\n",
        "    return encryptmsg.join(encrypting)\n",
        "\n",
        "def decipher(text):\n",
        "    decryptedmsg = ''\n",
        "    text=str(text)\n",
        "    decrypted=[]\n",
        "    for l in text:\n",
        "        decrypted.append(reverse_keys.get(l,l))\n",
        "    return decryptedmsg.join(decrypted)\n",
        "\n",
        "msg=input(\"Enter the Message: \")\n",
        "ciphertext = encrypt(msg)\n",
        "print(\"This is Cipher Text: \" + encrypt(msg))\n",
        "print(\"This is Plain Text: \" + decipher(ciphertext))"
      ],
      "execution_count": null,
      "outputs": [
        {
          "output_type": "stream",
          "text": [
            "Enter the Message: abc\n",
            "This is Cipher Text: mnb\n",
            "This is Plain Text: abc\n"
          ],
          "name": "stdout"
        }
      ]
    },
    {
      "cell_type": "markdown",
      "metadata": {
        "id": "IYdrhuuNbMFU"
      },
      "source": [
        "# **Practical 3 - Plyfair Cipher**"
      ]
    },
    {
      "cell_type": "code",
      "metadata": {
        "id": "cUTx5K8BbSh1"
      },
      "source": [
        "#CONTACT FOR ANY QUESTIONS\n",
        "#CODERATRI-ATRISAXENA2@GMAIL.COM\n",
        "\n",
        "key=input(\"Enter key\")\n",
        "key=key.replace(\" \", \"\")\n",
        "key=key.upper()\n",
        "def matrix(x,y,initial):\n",
        "    return [[initial for i in range(x)] for j in range(y)]\n",
        "    \n",
        "result=list()\n",
        "for c in key: #storing key\n",
        "    if c not in result:\n",
        "        if c=='J':\n",
        "            result.append('I')\n",
        "        else:\n",
        "            result.append(c)\n",
        "flag=0\n",
        "for i in range(65,91): #storing other character\n",
        "    if chr(i) not in result:\n",
        "        if i==73 and chr(74) not in result:\n",
        "            result.append(\"I\")\n",
        "            flag=1\n",
        "        elif flag==0 and i==73 or i==74:\n",
        "            pass    \n",
        "        else:\n",
        "            result.append(chr(i))\n",
        "k=0\n",
        "my_matrix=matrix(5,5,0) #initialize matrix\n",
        "for i in range(0,5): #making matrix\n",
        "    for j in range(0,5):\n",
        "        my_matrix[i][j]=result[k]\n",
        "        k+=1\n",
        "\n",
        "def locindex(c): #get location of each character\n",
        "    loc=list()\n",
        "    if c=='J':\n",
        "        c='I'\n",
        "    for i ,j in enumerate(my_matrix):\n",
        "        for k,l in enumerate(j):\n",
        "            if c==l:\n",
        "                loc.append(i)\n",
        "                loc.append(k)\n",
        "                return loc\n",
        "            \n",
        "def encrypt():  #Encryption\n",
        "    msg=str(input(\"ENTER MSG:\"))\n",
        "    msg=msg.upper()\n",
        "    msg=msg.replace(\" \", \"\")             \n",
        "    i=0\n",
        "    for s in range(0,len(msg)+1,2):\n",
        "        if s<len(msg)-1:\n",
        "            if msg[s]==msg[s+1]:\n",
        "                msg=msg[:s+1]+'X'+msg[s+1:]\n",
        "    if len(msg)%2!=0:\n",
        "        msg=msg[:]+'X'\n",
        "    print(\"CIPHER TEXT:\",end=' ')\n",
        "    while i<len(msg):\n",
        "        loc=list()\n",
        "        loc=locindex(msg[i])\n",
        "        loc1=list()\n",
        "        loc1=locindex(msg[i+1])\n",
        "        if loc[1]==loc1[1]:\n",
        "            print(\"{}{}\".format(my_matrix[(loc[0]+1)%5][loc[1]],my_matrix[(loc1[0]+1)%5][loc1[1]]),end=' ')\n",
        "        elif loc[0]==loc1[0]:\n",
        "            print(\"{}{}\".format(my_matrix[loc[0]][(loc[1]+1)%5],my_matrix[loc1[0]][(loc1[1]+1)%5]),end=' ')  \n",
        "        else:\n",
        "            print(\"{}{}\".format(my_matrix[loc[0]][loc1[1]],my_matrix[loc1[0]][loc[1]]),end=' ')    \n",
        "        i=i+2        \n",
        "                 \n",
        "def decrypt():  #decryption\n",
        "    msg=str(input(\"ENTER CIPHER TEXT:\"))\n",
        "    msg=msg.upper()\n",
        "    msg=msg.replace(\" \", \"\")\n",
        "    print(\"PLAIN TEXT:\",end=' ')\n",
        "    i=0\n",
        "    while i<len(msg):\n",
        "        loc=list()\n",
        "        loc=locindex(msg[i])\n",
        "        loc1=list()\n",
        "        loc1=locindex(msg[i+1])\n",
        "        if loc[1]==loc1[1]:\n",
        "            print(\"{}{}\".format(my_matrix[(loc[0]-1)%5][loc[1]],my_matrix[(loc1[0]-1)%5][loc1[1]]),end=' ')\n",
        "        elif loc[0]==loc1[0]:\n",
        "            print(\"{}{}\".format(my_matrix[loc[0]][(loc[1]-1)%5],my_matrix[loc1[0]][(loc1[1]-1)%5]),end=' ')  \n",
        "        else:\n",
        "            print(\"{}{}\".format(my_matrix[loc[0]][loc1[1]],my_matrix[loc1[0]][loc[1]]),end=' ')    \n",
        "        i=i+2        \n",
        "\n",
        "while(1):\n",
        "    choice=int(input(\"\\n 1.Encryption \\n 2.Decryption: \\n 3.EXIT\"))\n",
        "    if choice==1:\n",
        "        encrypt()\n",
        "    elif choice==2:\n",
        "        decrypt()\n",
        "    else:\n",
        "        print(\"Choose correct choice\")"
      ],
      "execution_count": null,
      "outputs": []
    },
    {
      "cell_type": "markdown",
      "metadata": {
        "id": "mInj5jh6SASe"
      },
      "source": [
        "# **Practical 4 - Vigenere Cipher**"
      ]
    },
    {
      "cell_type": "code",
      "metadata": {
        "id": "IKjlP-rXSASq"
      },
      "source": [
        "def gkey(string, key): \n",
        "  key = list(key) \n",
        "  if len(string) == len(key): \n",
        "    return(key) \n",
        "  else: \n",
        "    for i in range(len(string) -len(key)): \n",
        "      key.append(key[i % len(key)]) \n",
        "  return(\"\" . join(key)) \n",
        "  \n",
        "def encrypt(string, key): \n",
        "  encrypt_text = [] \n",
        "  for i in range(len(string)): \n",
        "    x = (ord(string[i]) +ord(key[i])) % 26\n",
        "    x += ord('A') \n",
        "    encrypt_text.append(chr(x)) \n",
        "  return(\"\" . join(encrypt_text))\n",
        "\n",
        "def decrypt(encrypt_text, key): \n",
        "  orig_text = [] \n",
        "  for i in range(len(encrypt_text)): \n",
        "    x = (ord(encrypt_text[i]) -ord(key[i]) + 26) % 26\n",
        "    x += ord('A') \n",
        "    orig_text.append(chr(x)) \n",
        "  return(\"\" . join(orig_text)) \n",
        "\n",
        "if __name__ == \"__main__\": \n",
        "  string = input(\"enter plaintext: \")\n",
        "  keyword = input(\"enter key: \")\n",
        "  key = gkey(string, keyword) \n",
        "  encrypt_text = encrypt(string,key) \n",
        "  print(\"Ciphertext:\", encrypt_text) \n",
        "  print(\"Decrypted/Plaintext:\", decrypt(encrypt_text, key))"
      ],
      "execution_count": null,
      "outputs": []
    },
    {
      "cell_type": "markdown",
      "metadata": {
        "id": "G5g_gyn_kdK8"
      },
      "source": [
        "# **Practical 5 - Hill Cipher**"
      ]
    },
    {
      "cell_type": "code",
      "metadata": {
        "colab": {
          "base_uri": "https://localhost:8080/"
        },
        "id": "KhgRsE2dkdLE",
        "outputId": "3aec2b2d-ae52-4fe5-971d-c26558319766"
      },
      "source": [
        "import numpy as np\n",
        "\n",
        "\n",
        "def encrypt(msg):\n",
        "    # Replace spaces with nothing\n",
        "    msg = msg.replace(\" \", \"\")\n",
        "    # Ask for keyword and get encryption matrix\n",
        "    C = make_key()\n",
        "    # Append zero if the messsage isn't divisble by 2\n",
        "    len_check = len(msg) % 2 == 0\n",
        "    if not len_check:\n",
        "        msg += \"0\"\n",
        "    # Populate message matrix\n",
        "    P = create_matrix_of_integers_from_string(msg)\n",
        "    # Calculate length of the message\n",
        "    msg_len = int(len(msg) / 2)\n",
        "    # Calculate P * C\n",
        "    encrypted_msg = \"\"\n",
        "    for i in range(msg_len):\n",
        "        # Dot product\n",
        "        row_0 = P[0][i] * C[0][0] + P[1][i] * C[0][1]\n",
        "        # Modulate and add 65 to get back to the A-Z range in ascii\n",
        "        integer = int(row_0 % 26 + 65)\n",
        "        # Change back to chr type and add to text\n",
        "        encrypted_msg += chr(integer)\n",
        "        # Repeat for the second column\n",
        "        row_1 = P[0][i] * C[1][0] + P[1][i] * C[1][1]\n",
        "        integer = int(row_1 % 26 + 65)\n",
        "        encrypted_msg += chr(integer)\n",
        "    return encrypted_msg\n",
        "\n",
        "def decrypt(encrypted_msg):\n",
        "    # Ask for keyword and get encryption matrix\n",
        "    C = make_key()\n",
        "    # Inverse matrix\n",
        "    determinant = C[0][0] * C[1][1] - C[0][1] * C[1][0]\n",
        "    determinant = determinant % 26\n",
        "    multiplicative_inverse = find_multiplicative_inverse(determinant)\n",
        "    C_inverse = C\n",
        "    # Swap a <-> d\n",
        "    C_inverse[0][0], C_inverse[1][1] = C_inverse[1, 1], C_inverse[0, 0]\n",
        "    # Replace\n",
        "    C[0][1] *= -1\n",
        "    C[1][0] *= -1\n",
        "    for row in range(2):\n",
        "        for column in range(2):\n",
        "            C_inverse[row][column] *= multiplicative_inverse\n",
        "            C_inverse[row][column] = C_inverse[row][column] % 26\n",
        "\n",
        "    P = create_matrix_of_integers_from_string(encrypted_msg)\n",
        "    msg_len = int(len(encrypted_msg) / 2)\n",
        "    decrypted_msg = \"\"\n",
        "    for i in range(msg_len):\n",
        "        # Dot product\n",
        "        column_0 = P[0][i] * C_inverse[0][0] + P[1][i] * C_inverse[0][1]\n",
        "        # Modulate and add 65 to get back to the A-Z range in ascii\n",
        "        integer = int(column_0 % 26 + 65)\n",
        "        # Change back to chr type and add to text\n",
        "        decrypted_msg += chr(integer)\n",
        "        # Repeat for the second column\n",
        "        column_1 = P[0][i] * C_inverse[1][0] + P[1][i] * C_inverse[1][1]\n",
        "        integer = int(column_1 % 26 + 65)\n",
        "        decrypted_msg += chr(integer)\n",
        "    if decrypted_msg[-1] == \"0\":\n",
        "        decrypted_msg = decrypted_msg[:-1]\n",
        "    return decrypted_msg\n",
        "\n",
        "def find_multiplicative_inverse(determinant):\n",
        "    multiplicative_inverse = -1\n",
        "    for i in range(26):\n",
        "        inverse = determinant * i\n",
        "        if inverse % 26 == 1:\n",
        "            multiplicative_inverse = i\n",
        "            break\n",
        "    return multiplicative_inverse\n",
        "\n",
        "\n",
        "def make_key():\n",
        "     # Make sure cipher determinant is relatively prime to 26 and only a/A - z/Z are given\n",
        "    determinant = 0\n",
        "    C = None\n",
        "    while True:\n",
        "        cipher = input(\"Input 4 letter cipher: \")\n",
        "        C = create_matrix_of_integers_from_string(cipher)\n",
        "        determinant = C[0][0] * C[1][1] - C[0][1] * C[1][0]\n",
        "        determinant = determinant % 26\n",
        "        inverse_element = find_multiplicative_inverse(determinant)\n",
        "        if inverse_element == -1:\n",
        "            print(\"Determinant is not relatively prime to 26, uninvertible key\")\n",
        "        elif np.amax(C) > 26 and np.amin(C) < 0:\n",
        "            print(\"Only a-z characters are accepted\")\n",
        "            print(np.amax(C), np.amin(C))\n",
        "        else:\n",
        "            break\n",
        "    return C\n",
        "\n",
        "def create_matrix_of_integers_from_string(string):\n",
        "    # Map string to a list of integers a/A <-> 0, b/B <-> 1 ... z/Z <-> 25\n",
        "    integers = [chr_to_int(c) for c in string]\n",
        "    length = len(integers)\n",
        "    M = np.zeros((2, int(length / 2)), dtype=np.int32)\n",
        "    iterator = 0\n",
        "    for column in range(int(length / 2)):\n",
        "        for row in range(2):\n",
        "            M[row][column] = integers[iterator]\n",
        "            iterator += 1\n",
        "    return M\n",
        "\n",
        "def chr_to_int(char):\n",
        "    # Uppercase the char to get into range 65-90 in ascii table\n",
        "    char = char.upper()\n",
        "    # Cast chr to int and subtract 65 to get 0-25\n",
        "    integer = ord(char) - 65\n",
        "    return integer\n",
        "\n",
        "if __name__ == \"__main__\":\n",
        "    msg = input(\"Message: \")\n",
        "    encrypted_msg = encrypt(msg)\n",
        "    print(encrypted_msg)\n",
        "    decrypted_msg = decrypt(encrypted_msg)\n",
        "    print(decrypted_msg)"
      ],
      "execution_count": null,
      "outputs": [
        {
          "output_type": "stream",
          "text": [
            "Message: PREE\n",
            "Input 4 letter cipher: HILL\n",
            "GVUY\n",
            "Input 4 letter cipher: HILL\n",
            "PREE\n"
          ],
          "name": "stdout"
        }
      ]
    }
  ]
}