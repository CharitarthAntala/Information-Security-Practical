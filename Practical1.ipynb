{
  "nbformat": 4,
  "nbformat_minor": 0,
  "metadata": {
    "colab": {
      "name": "Practical1.ipynb",
      "provenance": [],
      "collapsed_sections": [],
      "include_colab_link": true
    },
    "kernelspec": {
      "display_name": "Python 3",
      "language": "python",
      "name": "python3"
    },
    "language_info": {
      "codemirror_mode": {
        "name": "ipython",
        "version": 3
      },
      "file_extension": ".py",
      "mimetype": "text/x-python",
      "name": "python",
      "nbconvert_exporter": "python",
      "pygments_lexer": "ipython3",
      "version": "3.8.8"
    }
  },
  "cells": [
    {
      "cell_type": "markdown",
      "metadata": {
        "id": "view-in-github",
        "colab_type": "text"
      },
      "source": [
        "<a href=\"https://colab.research.google.com/github/CharitarthAntala/Information-Security-Practical/blob/main/Practical1.ipynb\" target=\"_parent\"><img src=\"https://colab.research.google.com/assets/colab-badge.svg\" alt=\"Open In Colab\"/></a>"
      ]
    },
    {
      "cell_type": "code",
      "metadata": {
        "colab": {
          "base_uri": "https://localhost:8080/"
        },
        "id": "2ttD9pLLK446",
        "outputId": "61789683-75a4-491d-8ec6-7f1aaa91e188"
      },
      "source": [
        "def encryption(msg, key):  \n",
        "    cypher = \"\"  \n",
        "  \n",
        "  \n",
        "# plain text full recieve   \n",
        "    for i in range(len(msg)):  \n",
        "        char = msg[i]  \n",
        "      \n",
        "        #encryption for uppercase\n",
        "        if (char.isupper()):  \n",
        "            cypher += chr((ord(char) + key - 65) % 26 + 65)  \n",
        "        # encyption for lowercase  \n",
        "        else:  \n",
        "            cypher += chr((ord(char) + key - 97) % 26 + 97)  \n",
        "    return cypher  \n",
        "\n",
        "def decryption(cyphe, key):  \n",
        "    decypher = \"\"  \n",
        "  \n",
        "  \n",
        "# plain text full recieve   \n",
        "    for i in range(len(cyphe)):  \n",
        "        char = cyphe[i]  \n",
        "      \n",
        "        #encryption for uppercase\n",
        "        if (char.isupper()):  \n",
        "            decypher += chr((ord(char) - key - 65) % 26 + 65)  \n",
        "        # encyption for lowercase  \n",
        "        else:  \n",
        "            decypher += chr((ord(char) - key - 97) % 26 + 97)  \n",
        "    return decypher\n",
        "\n",
        "# check the above function  \n",
        "msg = input(\"Enter Plain Text : \")  \n",
        "key = int(input(\"Enter Key : \"))\n",
        "  \n",
        "print(\"Plain text : \" + msg)  \n",
        "print(\"Key for shift : \" + str(key))  \n",
        "print(\"Cipher text: \" + encryption(msg, key))\n",
        "cyphe = encryption(msg, key)\n",
        "print(cyphe)\n",
        "print(\"DeCipher text: \" + decryption(cyphe, key))"
      ],
      "execution_count": 14,
      "outputs": [
        {
          "output_type": "stream",
          "text": [
            "Enter Plain Text : abc\n",
            "Enter Key : 3\n",
            "Plain text : abc\n",
            "Key for shift : 3\n",
            "Cipher text: def\n",
            "def\n",
            "DeCipher text: abc\n"
          ],
          "name": "stdout"
        }
      ]
    },
    {
      "cell_type": "code",
      "metadata": {
        "colab": {
          "base_uri": "https://localhost:8080/"
        },
        "id": "K_bejI76ZOBX",
        "outputId": "99b5a711-da40-4d06-9fa5-b43423b24a1f"
      },
      "source": [
        "def encryption(plain, key):\n",
        " \n",
        "  cipher = ''\n",
        "  for char in plain:\n",
        "    if char == ' ':\n",
        "      cipher = cipher + char\n",
        "    elif  char.isupper():\n",
        "      cipher = cipher + chr((ord(char) + key - 65) % 26 + 65)\n",
        "    else:\n",
        "      cipher = cipher + chr((ord(char) + key - 97) % 26 + 97)\n",
        "  \n",
        "  return cipher\n",
        "\n",
        "def decryption(cipher, key):\n",
        " \n",
        "  plain = ''\n",
        "  for i in cipher:\n",
        "    if i == ' ':\n",
        "      plain = plain + i\n",
        "    elif  i.isupper():\n",
        "      plain = plain + chr((ord(i) + key + 65) % 26 + 65)\n",
        "    else:\n",
        "      plain = plain + chr((ord(i) + key + 97) % 26 + 97)\n",
        "  \n",
        "  return cipher\n",
        "\n",
        "text = input(\"enter string: \")\n",
        "key = int(input(\"enter key number: \"))\n",
        "print(\"original string: \", text)\n",
        "print(\"after encryption: \", encryption(text, key))\n",
        "print(\"after decryption: \", decryption(text, key))"
      ],
      "execution_count": 11,
      "outputs": [
        {
          "output_type": "stream",
          "text": [
            "enter string: abc\n",
            "enter key number: 3\n",
            "original string:  abc\n",
            "after encryption:  def\n",
            "after decryption:  abc\n"
          ],
          "name": "stdout"
        }
      ]
    }
  ]
}