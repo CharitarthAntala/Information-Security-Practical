{
 "cells": [
  {
   "cell_type": "code",
   "execution_count": 3,
   "metadata": {
    "colab": {
     "base_uri": "https://localhost:8080/"
    },
    "id": "2ttD9pLLK446",
    "outputId": "ebd16fa4-656d-4073-b744-b69efa248eff"
   },
   "outputs": [
    {
     "name": "stdout",
     "output_type": "stream",
     "text": [
      "Enter Plain Text : ABC\n",
      "Enter Key : 3\n",
      "Plain text : ABC\n",
      "Key for shift : 3\n",
      "Cipher text: DEF\n"
     ]
    }
   ],
   "source": [
    "def encryption(msg, key):  \n",
    "    cypher = \"\"  \n",
    "  \n",
    "  \n",
    "# plain text full recieve   \n",
    "    for i in range(len(msg)):  \n",
    "        char = msg[i]  \n",
    "      \n",
    "        #encryption for uppercase\n",
    "        if (char.isupper()):  \n",
    "            cypher += chr((ord(char) + key - 65) % 26 + 65)  \n",
    "        # encyption for lowercase  \n",
    "        else:  \n",
    "            cypher += chr((ord(char) + key - 97) % 26 + 97)  \n",
    "    return cypher  \n",
    "# check the above function  \n",
    "msg = input(\"Enter Plain Text : \")  \n",
    "key = int(input(\"Enter Key : \"))\n",
    "  \n",
    "print(\"Plain text : \" + msg)  \n",
    "print(\"Key for shift : \" + str(key))  \n",
    "print(\"Cipher text: \" + encryption(msg, key))"
   ]
  },
  {
   "cell_type": "code",
   "execution_count": null,
   "metadata": {},
   "outputs": [],
   "source": []
  }
 ],
 "metadata": {
  "colab": {
   "collapsed_sections": [],
   "name": "Practical1.ipynb",
   "provenance": []
  },
  "kernelspec": {
   "display_name": "Python 3",
   "language": "python",
   "name": "python3"
  },
  "language_info": {
   "codemirror_mode": {
    "name": "ipython",
    "version": 3
   },
   "file_extension": ".py",
   "mimetype": "text/x-python",
   "name": "python",
   "nbconvert_exporter": "python",
   "pygments_lexer": "ipython3",
   "version": "3.8.8"
  }
 },
 "nbformat": 4,
 "nbformat_minor": 1
}
